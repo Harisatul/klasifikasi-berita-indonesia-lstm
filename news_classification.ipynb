{
  "cells": [
    {
      "cell_type": "markdown",
      "metadata": {
        "id": "ArCi_eHLtA2a"
      },
      "source": [
        "# **Import frameworks dan libraries yang diperlukan**"
      ]
    },
    {
      "cell_type": "code",
      "execution_count": null,
      "metadata": {
        "id": "vD2Up7n-h2nJ",
        "vscode": {
          "languageId": "python"
        }
      },
      "outputs": [],
      "source": [
        "from keras.models import Sequential\n",
        "from keras.layers import Dense, Embedding, LSTM, SpatialDropout1D\n",
        "from sklearn.model_selection import train_test_split\n",
        "from keras.preprocessing.text import Tokenizer\n",
        "from keras.utils import pad_sequences\n",
        "from sklearn.utils import resample\n",
        "from keras.layers import SimpleRNN\n",
        "from keras.models import load_model\n",
        "\n",
        "import pickle\n",
        "import json\n",
        "import re\n",
        "import pandas as pd\n",
        "import numpy as np\n",
        "import tensorflow as tf\n",
        "\n",
        "import gensim\n",
        "import seaborn as sns\n",
        "import matplotlib.pyplot as plt"
      ]
    },
    {
      "cell_type": "markdown",
      "metadata": {
        "id": "tWSPKlZDtRAQ"
      },
      "source": [
        "# **Load dataset, lakukan preprocessing, dan singkronisasi jumlah data.**\n"
      ]
    },
    {
      "cell_type": "code",
      "execution_count": null,
      "metadata": {
        "colab": {
          "base_uri": "https://localhost:8080/"
        },
        "id": "4Tb2RQ4Ph-Ql",
        "outputId": "e8a0f973-012a-4564-b65b-531b0bc21fbf",
        "vscode": {
          "languageId": "python"
        }
      },
      "outputs": [
        {
          "name": "stdout",
          "output_type": "stream",
          "text": [
            "bisnis: 500, sains: 500, sport: 500\n",
            "Total data: 1500\n"
          ]
        }
      ],
      "source": [
        "stopwords = open('stopwords_id.txt', 'r').read().splitlines()\n",
        "\n",
        "def clean_chars(sent):\n",
        "    url_remove = re.sub(r'http\\S+', ' ', sent.lower())\n",
        "    char_remove = re.sub(r'[^a-zA-Z0-9#@]', ' ', url_remove)\n",
        "    char_len = [i for i in char_remove.split() if len(i) > 2]\n",
        "    temp = [i for i in char_len if not i.startswith('#') and not i.startswith('@') and i not in stopwords]\n",
        "    return ' '.join(temp)\n",
        "\n",
        "def sync_data(bisnis, sains, sport):\n",
        "    dict = {'bisnis': len(bisnis), 'sains': len(sains), 'sport': len(sport)}\n",
        "    lowest = min(dict.items(), key=lambda x: x[1])\n",
        "\n",
        "    bisnis = resample(bisnis,replace=False, n_samples=lowest[1], random_state=123)\n",
        "    sains = resample(sains,replace=False, n_samples=lowest[1], random_state=123)\n",
        "    sport = resample(sport,replace=False, n_samples=lowest[1], random_state=123)\n",
        "\n",
        "    return bisnis, sains, sport\n",
        "\n",
        "bisnis = []\n",
        "sport = []\n",
        "sains = []\n",
        "\n",
        "bisnis_label = []\n",
        "sport_label = []\n",
        "sains_label = []\n",
        "\n",
        "with open('news.json') as f:\n",
        "    data = json.load(f)\n",
        "    \n",
        "for d in data:\n",
        "  if d['kategori'] == 'bisnis':\n",
        "      content = clean_chars(d['content'])\n",
        "      bisnis_label.append(d['kategori'])\n",
        "      bisnis.append(content)\n",
        "\n",
        "  elif d['kategori'] == 'sains':\n",
        "      content = clean_chars(d['content'])\n",
        "      sport_label.append(d['kategori'])\n",
        "      sport.append(content)\n",
        "\n",
        "  elif d['kategori'] == 'sport':\n",
        "      content = clean_chars(d['content'])\n",
        "      sains_label.append(d['kategori'])\n",
        "      sains.append(content)\n",
        "      \n",
        "bisnis, sains, sport = sync_data(bisnis, sains, sport)\n",
        "\n",
        "print(\"bisnis: %s, sains: %s, sport: %s\" % (len(bisnis), len(sains), len(sport)))\n",
        "\n",
        "statuses = bisnis + sains + sport\n",
        "\n",
        "print(\"Total data: %s\" % len(statuses))\n",
        "\n",
        "bisnis_label, sains_label, sport_label = sync_data(bisnis_label, sains_label, sport_label)\n",
        "\n",
        "labels = bisnis_label + sains_label + sport_label"
      ]
    },
    {
      "cell_type": "markdown",
      "metadata": {
        "id": "fEpnCzp9uNiD"
      },
      "source": [
        "# **Ubah data menjadi embedding**"
      ]
    },
    {
      "cell_type": "code",
      "execution_count": null,
      "metadata": {
        "colab": {
          "base_uri": "https://localhost:8080/"
        },
        "id": "aJaDD4wDuJdH",
        "outputId": "321dbb77-e5d2-4690-ede7-229340ea3195",
        "vscode": {
          "languageId": "python"
        }
      },
      "outputs": [
        {
          "name": "stdout",
          "output_type": "stream",
          "text": [
            "[[   0    0    0 ... 1546  463  302]\n",
            " [   0    0    0 ...   57  538  537]\n",
            " [   0    0    0 ... 1447 1549  883]\n",
            " ...\n",
            " [   0    0    0 ...    2 1520 2795]\n",
            " [   0    0    0 ...   85   16  281]\n",
            " [   0    0    0 ... 1925  985  451]]\n",
            "[[1 0 0]\n",
            " [1 0 0]\n",
            " [1 0 0]\n",
            " ...\n",
            " [0 1 0]\n",
            " [0 1 0]\n",
            " [0 1 0]]\n"
          ]
        }
      ],
      "source": [
        "max_features = 3000\n",
        "tokenizer = Tokenizer(num_words=max_features, split=' ')\n",
        "tokenizer.fit_on_texts(statuses)\n",
        "\n",
        "X = tokenizer.texts_to_sequences(statuses)\n",
        "X = pad_sequences(X)\n",
        "\n",
        "Y = pd.get_dummies(labels).values\n",
        "\n",
        "print(X)\n",
        "print(Y)"
      ]
    },
    {
      "cell_type": "markdown",
      "metadata": {
        "id": "D_BX1LGYuW7n"
      },
      "source": [
        "# **Split data menjadi data training, testing, valid**\n",
        "\n"
      ]
    },
    {
      "cell_type": "code",
      "execution_count": null,
      "metadata": {
        "id": "GadoioUsuoUl",
        "vscode": {
          "languageId": "python"
        }
      },
      "outputs": [],
      "source": [
        "X_train, X_test, y_train, y_test = train_test_split(X, Y, test_size=0.2, random_state=1)\n",
        "\n",
        "X_train, X_val, y_train, y_val = train_test_split(X_train, y_train, test_size=0.2, random_state=1)"
      ]
    },
    {
      "cell_type": "markdown",
      "metadata": {
        "id": "7uNcwE4LA2tQ"
      },
      "source": [
        "# **Create Model**"
      ]
    },
    {
      "cell_type": "code",
      "execution_count": null,
      "metadata": {
        "colab": {
          "base_uri": "https://localhost:8080/"
        },
        "id": "EfXTHEHfiXkU",
        "outputId": "ce6de0a0-adb5-4be5-f6bc-9b7ed12976d9",
        "vscode": {
          "languageId": "python"
        }
      },
      "outputs": [
        {
          "name": "stdout",
          "output_type": "stream",
          "text": [
            "Model: \"sequential_8\"\n",
            "_________________________________________________________________\n",
            " Layer (type)                Output Shape              Param #   \n",
            "=================================================================\n",
            " embedding_8 (Embedding)     (None, 312, 128)          384000    \n",
            "                                                                 \n",
            " lstm_8 (LSTM)               (None, 196)               254800    \n",
            "                                                                 \n",
            " dense_8 (Dense)             (None, 3)                 591       \n",
            "                                                                 \n",
            "=================================================================\n",
            "Total params: 639,391\n",
            "Trainable params: 639,391\n",
            "Non-trainable params: 0\n",
            "_________________________________________________________________\n",
            "None\n",
            "Epoch 1/10\n",
            "1/1 [==============================] - 4s 4s/step - loss: 0.6934 - accuracy: 0.3073 - val_loss: 0.6902 - val_accuracy: 0.5100\n",
            "Epoch 2/10\n",
            "1/1 [==============================] - 0s 261ms/step - loss: 0.6898 - accuracy: 0.5427 - val_loss: 0.6867 - val_accuracy: 0.6267\n",
            "Epoch 3/10\n",
            "1/1 [==============================] - 0s 254ms/step - loss: 0.6858 - accuracy: 0.7031 - val_loss: 0.6821 - val_accuracy: 0.6833\n",
            "Epoch 4/10\n",
            "1/1 [==============================] - 0s 284ms/step - loss: 0.6806 - accuracy: 0.8167 - val_loss: 0.6757 - val_accuracy: 0.7600\n",
            "Epoch 5/10\n",
            "1/1 [==============================] - 0s 287ms/step - loss: 0.6734 - accuracy: 0.8740 - val_loss: 0.6664 - val_accuracy: 0.7900\n",
            "Epoch 6/10\n",
            "1/1 [==============================] - 0s 285ms/step - loss: 0.6631 - accuracy: 0.9031 - val_loss: 0.6514 - val_accuracy: 0.8000\n",
            "Epoch 7/10\n",
            "1/1 [==============================] - 0s 250ms/step - loss: 0.6467 - accuracy: 0.9229 - val_loss: 0.6251 - val_accuracy: 0.7500\n",
            "Epoch 8/10\n",
            "1/1 [==============================] - 0s 248ms/step - loss: 0.6185 - accuracy: 0.8646 - val_loss: 0.6550 - val_accuracy: 0.3533\n",
            "Epoch 9/10\n",
            "1/1 [==============================] - 0s 248ms/step - loss: 0.6442 - accuracy: 0.4260 - val_loss: 0.5864 - val_accuracy: 0.8167\n",
            "Epoch 10/10\n",
            "1/1 [==============================] - 0s 285ms/step - loss: 0.5768 - accuracy: 0.9094 - val_loss: 0.5647 - val_accuracy: 0.8700\n",
            "1/1 [==============================] - 0s 41ms/step - loss: 0.5619 - accuracy: 0.9292\n",
            "score:  0.561869204044342\n",
            "accuracy:  0.9291666746139526\n"
          ]
        }
      ],
      "source": [
        "max_features = 3000\n",
        "embed_dim = 128\n",
        "units = 196\n",
        "\n",
        "model = Sequential()\n",
        "model.add(Embedding(max_features, embed_dim, input_length=X.shape[1]))\n",
        "model.add(LSTM(units, dropout=0.2))\n",
        "model.add(Dense(3,activation='softmax'))\n",
        "model.compile(loss = 'binary_crossentropy', optimizer='adam',metrics = ['accuracy'])\n",
        "print(model.summary())\n",
        "\n",
        "\n",
        "batch_size = 1000\n",
        "history = model.fit(X_train, y_train, epochs=10, batch_size=batch_size, validation_data=(X_test, y_test), verbose=1)\n",
        "\n",
        "score, accuracy = model.evaluate(X_val, y_val, batch_size=batch_size, verbose=1)\n",
        "print(\"score: \", score)\n",
        "print(\"accuracy: \", accuracy)"
      ]
    },
    {
      "cell_type": "markdown",
      "metadata": {
        "id": "y13HQEOWEUn2"
      },
      "source": [
        "# **Visualisasi**"
      ]
    },
    {
      "cell_type": "code",
      "execution_count": null,
      "metadata": {
        "colab": {
          "base_uri": "https://localhost:8080/",
          "height": 279
        },
        "id": "GsrTTcoEwlZx",
        "outputId": "88f2e9c7-573b-48ea-9545-50fdad0f5e31",
        "vscode": {
          "languageId": "python"
        }
      },
      "outputs": [
        {
          "data": {
            "image/png": "[encoded data removed]",
            "text/plain": [
              "<Figure size 432x288 with 1 Axes>"
            ]
          },
          "metadata": {
            "needs_background": "light"
          },
          "output_type": "display_data"
        }
      ],
      "source": [
        "df = pd.DataFrame({'epochs':history.epoch, 'accuracy': history.history['accuracy'], 'validation_accuracy': history.history['val_accuracy']})\n",
        "g = sns.pointplot(x=\"epochs\", y=\"accuracy\", data=df, fit_reg=False, color='green')\n",
        "g = sns.pointplot(x=\"epochs\", y=\"validation_accuracy\", data=df, fit_reg=False, color='red')"
      ]
    },
    {
      "cell_type": "markdown",
      "metadata": {
        "id": "JAVKuqsvu3ut"
      },
      "source": [
        "# **Save model**"
      ]
    },
    {
      "cell_type": "code",
      "execution_count": null,
      "metadata": {
        "colab": {
          "base_uri": "https://localhost:8080/"
        },
        "id": "K1HbobyX6VzV",
        "outputId": "09cb0879-c57c-4633-c123-94e3623c6799",
        "vscode": {
          "languageId": "python"
        }
      },
      "outputs": [
        {
          "name": "stdout",
          "output_type": "stream",
          "text": [
            "Model has created!\n"
          ]
        }
      ],
      "source": [
        "model.save('klasifikasi-berita.h5')\n",
        "print(\"Model has created!\")"
      ]
    },
    {
      "cell_type": "markdown",
      "metadata": {
        "id": "TAN-vdm-u-3_"
      },
      "source": [
        "# **Predict data**"
      ]
    },
    {
      "cell_type": "code",
      "execution_count": null,
      "metadata": {
        "colab": {
          "base_uri": "https://localhost:8080/"
        },
        "id": "HR6dEg506SKl",
        "outputId": "4c82295d-417c-40f9-cb64-13d0ca4c333f",
        "vscode": {
          "languageId": "python"
        }
      },
      "outputs": [
        {
          "name": "stdout",
          "output_type": "stream",
          "text": [
            "1/1 [==============================] - 0s 390ms/step\n",
            "Text:  Legenda MotoGP, Jorge Lorenzo menerangkan perbedaan dari dua pembalap sangar, Valentino Rossi dan Marc Marquez.Mantan rekan setim Valentino Rossi \n",
            "itu tentu paham betul bagaimana aksi The Doctor saat menggeber kuda besinya di lintasan balap.Sementara itu dari kacamata Lorenzo, dia juga bisa menilai Marc Marquez \n",
            "salah satu rider MotoGP terbaik pula.Akan tetapi tetap saja dari dua pembalap yang bersinar di MotoGP tersebut ada sebuah perbedaan yang memang bagi Lorenzo cukup mencolok.\n",
            "Bagi pria berpaspor Spanyol itu menuturkan bahwa Valentino Rossi adalah pembalap yang cukup pandai dalam berimproviasai.Rider yang identik dengan nomor #46 itu bisa menerka \n",
            "situasi dalam balapan sehingga bisa melakukan perubahan di tengah race.Hal itu yang menurut Lorenzo jadi keistimewaan dari legenda MotoGP asal Italia itu.\"Rossi sangat cerdas, \n",
            "dia tahu bagaimana berimprovisasi dengan sangat baik dalam setiap situasi selama balapan. Menang secara tatap muka sangat sulit,\" tutur Lorenzo dilansir Motosan.\n",
            "\n",
            "Kategori:  olahraga\n"
          ]
        }
      ],
      "source": [
        "input_text = \"\"\"Legenda MotoGP, Jorge Lorenzo menerangkan perbedaan dari dua pembalap sangar, Valentino Rossi dan Marc Marquez.Mantan rekan setim Valentino Rossi \n",
        "itu tentu paham betul bagaimana aksi The Doctor saat menggeber kuda besinya di lintasan balap.Sementara itu dari kacamata Lorenzo, dia juga bisa menilai Marc Marquez \n",
        "salah satu rider MotoGP terbaik pula.Akan tetapi tetap saja dari dua pembalap yang bersinar di MotoGP tersebut ada sebuah perbedaan yang memang bagi Lorenzo cukup mencolok.\n",
        "Bagi pria berpaspor Spanyol itu menuturkan bahwa Valentino Rossi adalah pembalap yang cukup pandai dalam berimproviasai.Rider yang identik dengan nomor #46 itu bisa menerka \n",
        "situasi dalam balapan sehingga bisa melakukan perubahan di tengah race.Hal itu yang menurut Lorenzo jadi keistimewaan dari legenda MotoGP asal Italia itu.\"Rossi sangat cerdas, \n",
        "dia tahu bagaimana berimprovisasi dengan sangat baik dalam setiap situasi selama balapan. Menang secara tatap muka sangat sulit,\" tutur Lorenzo dilansir Motosan.\n",
        "\"\"\"\n",
        "\n",
        "text = [clean_chars(input_text)]\n",
        "predicted = tokenizer.texts_to_sequences(text)\n",
        "guess = pad_sequences(predicted, maxlen=X.shape[1])\n",
        "\n",
        "model = load_model('klasifikasi-berita.h5')\n",
        "prediction = model.predict(guess)\n",
        "polarity = np.argmax(prediction[0])\n",
        "\n",
        "kategori = ['bisnis', 'sains', 'olahraga']\n",
        "\n",
        "print(\"Text: \",input_text)\n",
        "print(\"Kategori: \",kategori[polarity])"
      ]
    }
  ],
  "metadata": {
    "accelerator": "GPU",
    "colab": {
      "provenance": []
    },
    "kernelspec": {
      "display_name": "Python 3",
      "name": "python3"
    }
  },
  "nbformat": 4,
  "nbformat_minor": 0
}
